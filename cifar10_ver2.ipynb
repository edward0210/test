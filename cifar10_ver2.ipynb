{
  "nbformat": 4,
  "nbformat_minor": 0,
  "metadata": {
    "colab": {
      "name": "cifar10.ipynb의 사본의 사본의 사본",
      "provenance": [],
      "collapsed_sections": [],
      "authorship_tag": "ABX9TyN6iYPc6FuD2DCaKyJLux9p",
      "include_colab_link": true
    },
    "kernelspec": {
      "name": "python3",
      "display_name": "Python 3"
    },
    "language_info": {
      "name": "python"
    }
  },
  "cells": [
    {
      "cell_type": "markdown",
      "metadata": {
        "id": "view-in-github",
        "colab_type": "text"
      },
      "source": [
        "<a href=\"https://colab.research.google.com/github/edward0210/test/blob/main/cifar10_ver2.ipynb\" target=\"_parent\"><img src=\"https://colab.research.google.com/assets/colab-badge.svg\" alt=\"Open In Colab\"/></a>"
      ]
    },
    {
      "cell_type": "code",
      "execution_count": null,
      "metadata": {
        "id": "QWWoAjOjKqCJ"
      },
      "outputs": [],
      "source": [
        "from keras.datasets import cifar10\n",
        "import numpy as np\n",
        "from keras.utils import np_utils\n",
        "import tensorflow as tf\n",
        "import pandas as pd\n",
        "from matplotlib import pyplot as plt\n",
        "from sklearn.manifold import TSNE\n",
        "from PIL import Image\n",
        "from keras.callbacks import EarlyStopping"
      ]
    },
    {
      "cell_type": "code",
      "source": [
        "(X_train, y_train) , (X_test, y_test) = cifar10.load_data()\n",
        "\n",
        "X_train = X_train.astype(float)/255.0\n",
        "y_train = np_utils.to_categorical(y_train)\n",
        "\n",
        "X_val = X_train[40000:]\n",
        "y_val = y_train[40000:]\n",
        "\n",
        "X_train = X_train[:40000]\n",
        "y_train = y_train[:40000]\n",
        "\n",
        "X_test = X_test.astype(float)/255.0\n",
        "y_test = np_utils.to_categorical(y_test)\n",
        "\n",
        "num_classes = y_test.shape[1]\n"
      ],
      "metadata": {
        "id": "uf3n0MM7MaCG"
      },
      "execution_count": null,
      "outputs": []
    },
    {
      "cell_type": "code",
      "source": [
        "print(num_classes)"
      ],
      "metadata": {
        "colab": {
          "base_uri": "https://localhost:8080/"
        },
        "id": "LsrWwsB_Npf5",
        "outputId": "76f334ae-1068-4da1-b5da-1f56d5817f59"
      },
      "execution_count": null,
      "outputs": [
        {
          "output_type": "stream",
          "name": "stdout",
          "text": [
            "10\n"
          ]
        }
      ]
    },
    {
      "cell_type": "code",
      "source": [
        "###Model branch\n",
        "\n",
        "#branch_a\n",
        "X = tf.keras.layers.Input(shape = [32,32,3])\n",
        "branch_a = tf.keras.layers.Convolution2D(32,kernel_size = 3,strides =1,padding ='same',activation = 'leaky_relu')(X)\n",
        "branch_a = tf.keras.layers.MaxPooling2D()(branch_a)\n",
        "branch_a = tf.keras.layers.Convolution2D(64,kernel_size =3, strides = 1, padding = 'same',activation = 'leaky_relu')(branch_a)\n",
        "branch_a = tf.keras.layers.MaxPooling2D()(branch_a)\n",
        "branch_a = tf.keras.layers.Convolution2D(64,kernel_size =3, strides = 1, padding = 'same',activation = 'leaky_relu')(branch_a)\n",
        "branch_a = tf.keras.layers.MaxPooling2D()(branch_a)\n",
        "\n",
        "\n",
        "\n",
        "\n",
        "#branch_b\n",
        "\n",
        "branch_b = tf.keras.layers.Convolution2D(32,kernel_size = 3,strides =2,padding ='same',activation = 'leaky_relu')(X)\n",
        "branch_b = tf.keras.layers.MaxPooling2D()(branch_b)\n",
        "branch_b = tf.keras.layers.Convolution2D(64,kernel_size =3, strides = 1, padding = 'same',activation = 'leaky_relu')(branch_b)\n",
        "branch_b = tf.keras.layers.MaxPooling2D()(branch_b)\n",
        "\n",
        "\n",
        "\n",
        "#concatenate\n",
        "output = tf.keras.layers.concatenate([branch_a,branch_b],axis=-1)\n",
        "output = tf.keras.layers.Flatten()(output)\n",
        "output = tf.keras.layers.Dense(120,activation = 'swish',name ='fc1')(output) \n",
        "output = tf.keras.layers.Dense(60,activation = 'swish',name ='fc2')(output)\n",
        "Y1 = tf.keras.layers.Dense(10,activation = 'softmax',name = 'fc3')(output)\n",
        "\n",
        "model1 = tf.keras.models.Model(X,Y1)\n",
        "\n",
        "model1.compile(loss='categorical_crossentropy',metrics='accuracy')\n"
      ],
      "metadata": {
        "id": "dxpV5QxXEzmX"
      },
      "execution_count": null,
      "outputs": []
    },
    {
      "cell_type": "code",
      "source": [
        "###Model2\n",
        "\n",
        "#X = tf.keras.layers.InputLayer(shape=[32,32,3])\n",
        "X = tf.keras.layers.Input(shape = [32,32,3])\n",
        "H = tf.keras.layers.Convolution2D(32,kernel_size = 3,strides =(1,1),padding ='same',activation = 'leaky_relu')(X)\n",
        "H = tf.keras.layers.MaxPooling2D()(H)\n",
        "print(H.shape)\n",
        "H = tf.keras.layers.Convolution2D(64,kernel_size =3, strides = (1,1), padding = 'same',activation = 'leaky_relu')(H)\n",
        "H = tf.keras.layers.MaxPooling2D()(H)\n",
        "H = tf.keras.layers.Convolution2D(64,kernel_size =3, strides = (1,1), padding = 'same',activation = 'leaky_relu')(H)\n",
        "H = tf.keras.layers.MaxPooling2D()(H)\n",
        "H = tf.keras.layers.Flatten()(H)\n",
        "H = tf.keras.layers.Dense(120,activation = 'swish',name ='fc1')(H) \n",
        "H = tf.keras.layers.Dense(60,activation = 'swish',name ='fc2')(H)\n",
        "Y2 = tf.keras.layers.Dense(10,activation = 'softmax',name = 'fc3')(H)\n",
        "\n",
        "\n",
        "model2 = tf.keras.models.Model(X,Y2)\n",
        "\n",
        "model2.compile(loss='categorical_crossentropy',metrics='accuracy')\n"
      ],
      "metadata": {
        "colab": {
          "base_uri": "https://localhost:8080/"
        },
        "id": "7N_jb43uNxcg",
        "outputId": "b158806d-44bc-4c39-841a-649ccc6b1339"
      },
      "execution_count": null,
      "outputs": [
        {
          "output_type": "stream",
          "name": "stdout",
          "text": [
            "(None, 16, 16, 32)\n"
          ]
        }
      ]
    },
    {
      "cell_type": "code",
      "source": [
        "early_stopping = EarlyStopping(monitor = 'val_loss',patience=50, verbose =1, mode= 'auto', restore_best_weights=True)"
      ],
      "metadata": {
        "id": "q_pRD3gH3dYI"
      },
      "execution_count": null,
      "outputs": []
    },
    {
      "cell_type": "code",
      "source": [
        "hist1 = model1.fit(X_train, y_train, epochs=10, callbacks=[early_stopping],validation_data =(X_val,y_val))#batch_size = 4000, "
      ],
      "metadata": {
        "colab": {
          "base_uri": "https://localhost:8080/"
        },
        "id": "1zFgnQbpS7op",
        "outputId": "9f13cbc0-73a7-4e3e-8484-a1f4e68935ca"
      },
      "execution_count": 34,
      "outputs": [
        {
          "output_type": "stream",
          "name": "stdout",
          "text": [
            "Epoch 1/10\n",
            "1250/1250 [==============================] - 129s 104ms/step - loss: 0.1325 - accuracy: 0.9633 - val_loss: 2.6846 - val_accuracy: 0.7063\n",
            "Epoch 2/10\n",
            "1250/1250 [==============================] - 126s 101ms/step - loss: 0.1381 - accuracy: 0.9633 - val_loss: 2.8491 - val_accuracy: 0.7093\n",
            "Epoch 3/10\n",
            "1250/1250 [==============================] - 129s 103ms/step - loss: 0.1289 - accuracy: 0.9645 - val_loss: 2.9914 - val_accuracy: 0.7126\n",
            "Epoch 4/10\n",
            "1250/1250 [==============================] - 129s 103ms/step - loss: 0.1270 - accuracy: 0.9659 - val_loss: 2.9144 - val_accuracy: 0.7101\n",
            "Epoch 5/10\n",
            "1250/1250 [==============================] - 129s 103ms/step - loss: 0.1298 - accuracy: 0.9673 - val_loss: 3.4539 - val_accuracy: 0.7090\n",
            "Epoch 6/10\n",
            "1250/1250 [==============================] - 128s 102ms/step - loss: 0.1287 - accuracy: 0.9669 - val_loss: 3.2878 - val_accuracy: 0.7054\n",
            "Epoch 7/10\n",
            "1250/1250 [==============================] - 129s 103ms/step - loss: 0.1321 - accuracy: 0.9670 - val_loss: 3.2332 - val_accuracy: 0.7110\n",
            "Epoch 8/10\n",
            "1250/1250 [==============================] - 129s 103ms/step - loss: 0.1221 - accuracy: 0.9686 - val_loss: 3.1039 - val_accuracy: 0.7193\n",
            "Epoch 9/10\n",
            "1250/1250 [==============================] - 129s 103ms/step - loss: 0.1351 - accuracy: 0.9672 - val_loss: 3.4169 - val_accuracy: 0.7193\n",
            "Epoch 10/10\n",
            "1250/1250 [==============================] - 131s 105ms/step - loss: 0.1223 - accuracy: 0.9704 - val_loss: 3.7307 - val_accuracy: 0.7150\n"
          ]
        }
      ]
    },
    {
      "cell_type": "code",
      "source": [
        "hist2 = model2.fit(X_train, y_train, epochs=10, callbacks=[early_stopping],validation_data =(X_val,y_val))#batch_size = 4000,2"
      ],
      "metadata": {
        "colab": {
          "base_uri": "https://localhost:8080/"
        },
        "id": "5RXn1__PVHVT",
        "outputId": "5bc16183-cc00-43fa-b4a1-716f8238c57e"
      },
      "execution_count": 35,
      "outputs": [
        {
          "output_type": "stream",
          "name": "stdout",
          "text": [
            "Epoch 1/10\n",
            "1250/1250 [==============================] - 110s 87ms/step - loss: 1.4957 - accuracy: 0.4622 - val_loss: 1.3361 - val_accuracy: 0.5239\n",
            "Epoch 2/10\n",
            "1250/1250 [==============================] - 110s 88ms/step - loss: 1.0358 - accuracy: 0.6331 - val_loss: 1.1406 - val_accuracy: 0.6204\n",
            "Epoch 3/10\n",
            "1250/1250 [==============================] - 108s 86ms/step - loss: 0.8480 - accuracy: 0.7028 - val_loss: 0.9857 - val_accuracy: 0.6529\n",
            "Epoch 4/10\n",
            "1250/1250 [==============================] - 117s 93ms/step - loss: 0.7246 - accuracy: 0.7449 - val_loss: 0.8295 - val_accuracy: 0.7210\n",
            "Epoch 5/10\n",
            "1250/1250 [==============================] - 107s 86ms/step - loss: 0.6259 - accuracy: 0.7799 - val_loss: 0.8672 - val_accuracy: 0.7163\n",
            "Epoch 6/10\n",
            "1250/1250 [==============================] - 107s 86ms/step - loss: 0.5422 - accuracy: 0.8091 - val_loss: 0.8598 - val_accuracy: 0.7313\n",
            "Epoch 7/10\n",
            "1250/1250 [==============================] - 107s 85ms/step - loss: 0.4750 - accuracy: 0.8345 - val_loss: 0.8797 - val_accuracy: 0.7455\n",
            "Epoch 8/10\n",
            "1250/1250 [==============================] - 107s 85ms/step - loss: 0.4117 - accuracy: 0.8561 - val_loss: 0.9312 - val_accuracy: 0.7292\n",
            "Epoch 9/10\n",
            "1250/1250 [==============================] - 105s 84ms/step - loss: 0.3531 - accuracy: 0.8753 - val_loss: 1.1404 - val_accuracy: 0.7293\n",
            "Epoch 10/10\n",
            "1250/1250 [==============================] - 105s 84ms/step - loss: 0.3107 - accuracy: 0.8914 - val_loss: 1.1066 - val_accuracy: 0.7335\n"
          ]
        }
      ]
    },
    {
      "cell_type": "code",
      "source": [
        "model1.save\n",
        "model2.save"
      ],
      "metadata": {
        "id": "miBP8V1mXgOQ",
        "colab": {
          "base_uri": "https://localhost:8080/"
        },
        "outputId": "294b9e5f-e151-4e04-dd77-ca7496c72bf3"
      },
      "execution_count": 36,
      "outputs": [
        {
          "output_type": "execute_result",
          "data": {
            "text/plain": [
              "<bound method Model.save of <keras.engine.functional.Functional object at 0x7fd379b087d0>>"
            ]
          },
          "metadata": {},
          "execution_count": 36
        }
      ]
    },
    {
      "cell_type": "code",
      "source": [
        "plt.plot(hist1.history['accuracy'],'r')\n",
        "plt.plot(hist1.history['loss'],'g')\n",
        "\n",
        "plt.plot(hist2.history['accuracy'],'ro')\n",
        "plt.plot(hist2.history['loss'],'go')\n",
        "\n",
        "pred1 = model1.predict(X_test)\n",
        "result1 = model1.evaluate(X_test,y_test)#,batch_size=128)\n",
        "\n",
        "pred2 = model2.predict(X_test)\n",
        "result2 = model2.evaluate(X_test,y_test)#,batch_size=128)\n",
        "#plt.plot(pred)\n",
        "#result = pd.DataFrame(pred).round(2)\n",
        "\n",
        "print('test lossm test acc',result1)\n",
        "print('test lossm test acc',result2)\n",
        "\n",
        "plt.show()"
      ],
      "metadata": {
        "id": "FI6STnFGaKvu",
        "colab": {
          "base_uri": "https://localhost:8080/",
          "height": 338
        },
        "outputId": "f160223c-d435-44b6-bcd4-bb0745180617"
      },
      "execution_count": 38,
      "outputs": [
        {
          "output_type": "stream",
          "name": "stdout",
          "text": [
            "313/313 [==============================] - 9s 29ms/step - loss: 3.9026 - accuracy: 0.7060\n",
            "313/313 [==============================] - 8s 25ms/step - loss: 1.1292 - accuracy: 0.7206\n",
            "test lossm test acc [3.9025824069976807, 0.7059999704360962]\n",
            "test lossm test acc [1.1292020082473755, 0.7206000089645386]\n"
          ]
        },
        {
          "output_type": "display_data",
          "data": {
            "text/plain": [
              "<Figure size 432x288 with 1 Axes>"
            ],
            "image/png": "[encoded data removed]"
          },
          "metadata": {
            "needs_background": "light"
          }
        }
      ]
    },
    {
      "cell_type": "code",
      "source": [
        "feat_extractor = tf.keras.models.Model(inputs=model1.input,outputs=model1.get_layer('fc2').output)"
      ],
      "metadata": {
        "id": "Lky9jIjKoWO_"
      },
      "execution_count": null,
      "outputs": []
    },
    {
      "cell_type": "code",
      "source": [
        "features = feat_extractor.predict(X_train)"
      ],
      "metadata": {
        "id": "pZ2kUF-JjcrC"
      },
      "execution_count": null,
      "outputs": []
    },
    {
      "cell_type": "code",
      "source": [
        "\n",
        "tsne = TSNE().fit_transform(features)\n",
        "tx, ty = tsne[:,0], tsne[:,1]\n",
        "tx = (tx-np.min(tx)) / (np.max(tx) - np.min(tx))\n",
        "ty = (ty-np.min(ty)) / (np.max(ty) - np.min(ty))"
      ],
      "metadata": {
        "id": "z0uuPbgor3vU"
      },
      "execution_count": null,
      "outputs": []
    },
    {
      "cell_type": "code",
      "source": [
        "\n",
        "width = 3000\n",
        "height =3000\n",
        "max_dim = 100\n",
        "full_image = Image.new('RGB', (width, height))\n",
        "#print(X_test)\n",
        "for idx, x in enumerate(X_test):\n",
        "\n",
        "    tile = Image.fromarray(np.uint8(x * 255))\n",
        "    rs = max(1, tile.width / max_dim, tile.height / max_dim)\n",
        "    tile = tile.resize((int(tile.width / rs),\n",
        "                        int(tile.height / rs)),\n",
        "                       Image.ANTIALIAS)\n",
        "    full_image.paste(tile, (int((width-max_dim) * tx[idx]),\n",
        "                            int((height-max_dim) * ty[idx])))"
      ],
      "metadata": {
        "id": "iIKmq_Kquo43"
      },
      "execution_count": null,
      "outputs": []
    },
    {
      "cell_type": "code",
      "source": [
        "plt.imshow(full_image)"
      ],
      "metadata": {
        "id": "N6Or5dwJu2wQ"
      },
      "execution_count": null,
      "outputs": []
    },
    {
      "cell_type": "code",
      "source": [
        "#full_image = full_image[:,:,::-1]\n",
        "print(full_image.format)\n",
        "#plt.imsave('d4.bmp',full_image)\n",
        "full_image.save('d6.jpg')"
      ],
      "metadata": {
        "id": "YjhULR4gOTv6"
      },
      "execution_count": null,
      "outputs": []
    }
  ]
}