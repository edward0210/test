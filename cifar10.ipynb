{
  "nbformat": 4,
  "nbformat_minor": 0,
  "metadata": {
    "colab": {
      "name": "cifar10.ipynb의 사본의 사본",
      "provenance": [],
      "collapsed_sections": [],
      "authorship_tag": "ABX9TyOXe6DG+ex8k37Hwu3blhMU",
      "include_colab_link": true
    },
    "kernelspec": {
      "name": "python3",
      "display_name": "Python 3"
    },
    "language_info": {
      "name": "python"
    }
  },
  "cells": [
    {
      "cell_type": "markdown",
      "metadata": {
        "id": "view-in-github",
        "colab_type": "text"
      },
      "source": [
        "<a href=\"https://colab.research.google.com/github/edward0210/test/blob/main/cifar10.ipynb\" target=\"_parent\"><img src=\"https://colab.research.google.com/assets/colab-badge.svg\" alt=\"Open In Colab\"/></a>"
      ]
    },
    {
      "cell_type": "code",
      "execution_count": 12,
      "metadata": {
        "id": "QWWoAjOjKqCJ"
      },
      "outputs": [],
      "source": [
        "from keras.datasets import cifar10\n",
        "import numpy as np\n",
        "from keras.utils import np_utils\n",
        "import tensorflow as tf\n",
        "import pandas as pd\n",
        "from matplotlib import pyplot as plt\n",
        "from sklearn.manifold import TSNE\n",
        "from PIL import Image\n",
        "from keras.callbacks import EarlyStopping"
      ]
    },
    {
      "cell_type": "code",
      "source": [
        "(X_train, y_train) , (X_test, y_test) = cifar10.load_data()\n",
        "\n",
        "X_train = X_train.astype(float)/255.0\n",
        "y_train = np_utils.to_categorical(y_train)\n",
        "\n",
        "X_val = X_train[40000:]\n",
        "y_val = y_train[:40000]\n",
        "\n",
        "X_train = X_train[:40000]\n",
        "y_train = y_train[:40000]\n",
        "\n",
        "X_test = X_test.astype(float)/255.0\n",
        "y_test = np_utils.to_categorical(y_test)\n",
        "\n",
        "num_classes = y_test.shape[1]\n"
      ],
      "metadata": {
        "id": "uf3n0MM7MaCG"
      },
      "execution_count": 15,
      "outputs": []
    },
    {
      "cell_type": "code",
      "source": [
        "print(num_classes)"
      ],
      "metadata": {
        "colab": {
          "base_uri": "https://localhost:8080/"
        },
        "id": "LsrWwsB_Npf5",
        "outputId": "79745af7-d28f-46bd-b65f-8a403da578b6"
      },
      "execution_count": 4,
      "outputs": [
        {
          "output_type": "stream",
          "name": "stdout",
          "text": [
            "10\n"
          ]
        }
      ]
    },
    {
      "cell_type": "code",
      "source": [
        "###Model\n",
        "\n",
        "#X = tf.keras.layers.InputLayer(shape=[32,32,3])\n",
        "X = tf.keras.layers.Input(shape = [32,32,3])\n",
        "H = tf.keras.layers.Convolution2D(32,kernel_size = 3,strides =(1,1),padding ='same',activation = 'leaky_relu')(X)\n",
        "H = tf.keras.layers.MaxPooling2D()(H)\n",
        "print(H.shape)\n",
        "H = tf.keras.layers.Convolution2D(16,kernel_size =3, strides = (1,1), padding = 'same',activation = 'leaky_relu')(H)\n",
        "H = tf.keras.layers.MaxPooling2D()(H)\n",
        "H = tf.keras.layers.Convolution2D(8,kernel_size =3, strides = (1,1), padding = 'same',activation = 'leaky_relu')(H)\n",
        "H = tf.keras.layers.MaxPooling2D()(H)\n",
        "H = tf.keras.layers.Flatten()(H)\n",
        "H = tf.keras.layers.Dense(120,activation = 'swish',name ='fc1')(H) \n",
        "H = tf.keras.layers.Dense(60,activation = 'swish',name ='fc2')(H)\n",
        "Y = tf.keras.layers.Dense(10,activation = 'softmax',name = 'fc3')(H)\n",
        "\n",
        "\n",
        "model = tf.keras.models.Model(X,Y)\n",
        "\n",
        "model.compile(loss='categorical_crossentropy',metrics='accuracy')\n"
      ],
      "metadata": {
        "colab": {
          "base_uri": "https://localhost:8080/"
        },
        "id": "7N_jb43uNxcg",
        "outputId": "0fbcd92c-dc38-462e-d779-f16178468505"
      },
      "execution_count": 14,
      "outputs": [
        {
          "output_type": "stream",
          "name": "stdout",
          "text": [
            "(None, 16, 16, 32)\n"
          ]
        }
      ]
    },
    {
      "cell_type": "code",
      "source": [
        "early_stopping = EarlyStopping(monitor = 'val_loss',patience=50, verbose =1, mode= 'auto', restore_best_weights=True)"
      ],
      "metadata": {
        "id": "q_pRD3gH3dYI"
      },
      "execution_count": 13,
      "outputs": []
    },
    {
      "cell_type": "code",
      "source": [
        "hist = model.fit(X_train, y_train, epochs=10, callbacks=[early_stopping],batch_size = 4000, validation_data =(X_val,y_val))"
      ],
      "metadata": {
        "colab": {
          "base_uri": "https://localhost:8080/"
        },
        "id": "1zFgnQbpS7op",
        "outputId": "a387f5f5-99cb-4175-d1a5-ce4358fe9507"
      },
      "execution_count": null,
      "outputs": [
        {
          "output_type": "stream",
          "name": "stdout",
          "text": [
            "Epoch 1/10\n",
            " 5/10 [==============>...............] - ETA: 35s - loss: 2.2884 - accuracy: 0.1175"
          ]
        }
      ]
    },
    {
      "cell_type": "code",
      "source": [
        "plt.plot(hist.history['accuracy'],'r')\n",
        "plt.plot(hist.history['loss'],'g')\n",
        "\n",
        "pred = model.predict(X_test)\n",
        "result = model.evaluate(X_test,y_test,batch_size=128)\n",
        "#result = pd.DataFrame(pred).round(2)\n",
        "\n",
        "print('test lossm test acc',result)\n",
        "\n",
        "plt.show()"
      ],
      "metadata": {
        "id": "FI6STnFGaKvu"
      },
      "execution_count": null,
      "outputs": []
    },
    {
      "cell_type": "code",
      "source": [
        "feat_extractor = tf.keras.models.Model(inputs=model.input,outputs=model.get_layer('fc2').output)"
      ],
      "metadata": {
        "id": "Lky9jIjKoWO_"
      },
      "execution_count": null,
      "outputs": []
    },
    {
      "cell_type": "code",
      "source": [
        "features = feat_extractor.predict(X_train)"
      ],
      "metadata": {
        "id": "pZ2kUF-JjcrC"
      },
      "execution_count": null,
      "outputs": []
    },
    {
      "cell_type": "code",
      "source": [
        "\n",
        "tsne = TSNE().fit_transform(features)\n",
        "tx, ty = tsne[:,0], tsne[:,1]\n",
        "tx = (tx-np.min(tx)) / (np.max(tx) - np.min(tx))\n",
        "ty = (ty-np.min(ty)) / (np.max(ty) - np.min(ty))"
      ],
      "metadata": {
        "id": "z0uuPbgor3vU"
      },
      "execution_count": null,
      "outputs": []
    },
    {
      "cell_type": "code",
      "source": [
        "\n",
        "width = 3000\n",
        "height =3000\n",
        "max_dim = 100\n",
        "full_image = Image.new('RGB', (width, height))\n",
        "#print(X_test)\n",
        "for idx, x in enumerate(X_test):\n",
        "\n",
        "    tile = Image.fromarray(np.uint8(x * 255))\n",
        "    rs = max(1, tile.width / max_dim, tile.height / max_dim)\n",
        "    tile = tile.resize((int(tile.width / rs),\n",
        "                        int(tile.height / rs)),\n",
        "                       Image.ANTIALIAS)\n",
        "    full_image.paste(tile, (int((width-max_dim) * tx[idx]),\n",
        "                            int((height-max_dim) * ty[idx])))"
      ],
      "metadata": {
        "id": "iIKmq_Kquo43"
      },
      "execution_count": null,
      "outputs": []
    },
    {
      "cell_type": "code",
      "source": [
        "plt.imshow(full_image)"
      ],
      "metadata": {
        "id": "N6Or5dwJu2wQ"
      },
      "execution_count": null,
      "outputs": []
    },
    {
      "cell_type": "code",
      "source": [
        "#full_image = full_image[:,:,::-1]\n",
        "print(full_image.format)\n",
        "#plt.imsave('d4.bmp',full_image)\n",
        "full_image.save('d6.jpg')"
      ],
      "metadata": {
        "id": "YjhULR4gOTv6"
      },
      "execution_count": null,
      "outputs": []
    }
  ]
}